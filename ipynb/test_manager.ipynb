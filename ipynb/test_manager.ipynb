{
 "cells": [
  {
   "cell_type": "code",
   "execution_count": 3,
   "id": "865336b4",
   "metadata": {},
   "outputs": [],
   "source": [
    "from blue_firmament.scheme import BaseScheme"
   ]
  },
  {
   "cell_type": "code",
   "execution_count": 4,
   "id": "3acb70d1",
   "metadata": {},
   "outputs": [],
   "source": [
    "class A(BaseScheme):\n",
    "    a: int\n",
    "\n"
   ]
  },
  {
   "cell_type": "code",
   "execution_count": 1,
   "id": "ffd1a700",
   "metadata": {},
   "outputs": [
    {
     "name": "stderr",
     "output_type": "stream",
     "text": [
      "INFO:blue_firmament.utils.json:{\"event\": \"Json lib's encoder has been overriden\", \"datetime\": \"2025-06-01T07:57:02.962357Z\", \"filename\": \"json.py\", \"lineno\": 32}\n",
      "INFO:BaseSetting:{\"scheme_id\": 4455656640, \"scheme_data\": {\"session_expire_time\": 300, \"timezone_delta\": 8}, \"event\": \"Scheme instantiated\", \"datetime\": \"2025-06-01T07:57:02.967601Z\", \"filename\": \"<string>\", \"lineno\": 15}\n",
      "ERROR:blue_firmament.utils.file:{\"event\": \"Load json file None/auth.base.json failed, IO error\", \"datetime\": \"2025-06-01T07:57:03.036493Z\", \"filename\": \"file.py\", \"lineno\": 33}\n",
      "ERROR:blue_firmament.utils.file:{\"event\": \"Load json file None/auth.production.json failed, IO error\", \"datetime\": \"2025-06-01T07:57:03.036814Z\", \"filename\": \"file.py\", \"lineno\": 33}\n",
      "ERROR:blue_firmament.utils.file:{\"event\": \"Load json file None/auth.local.json failed, IO error\", \"datetime\": \"2025-06-01T07:57:03.036988Z\", \"filename\": \"file.py\", \"lineno\": 33}\n",
      "INFO:AuthSetting:{\"scheme_id\": 4460232240, \"scheme_data\": {\"supabase_anon_key\": \"\", \"supabase_auth_url\": \"\", \"jwt_algorithm\": \"\", \"supabase_serv_key\": \"\", \"jwt_secret_key\": \"\"}, \"event\": \"Scheme instantiated\", \"datetime\": \"2025-06-01T07:57:03.037142Z\", \"filename\": \"<string>\", \"lineno\": 19}\n",
      "INFO:SessionSetting:{\"scheme_id\": 4467434672, \"scheme_data\": {\"jwt_algorithm\": \"HS256\", \"jwt_secret_key\": null}, \"event\": \"Scheme instantiated\", \"datetime\": \"2025-06-01T07:57:03.037725Z\", \"filename\": \"<string>\", \"lineno\": 15}\n"
     ]
    }
   ],
   "source": [
    "import typing\n",
    "from blue_firmament.manager.base import (\n",
    "    ManagerMetaclass, SchemeTV, BaseTaskContext\n",
    ")\n",
    "class BaseManager2(\n",
    "    typing.Generic[SchemeTV], \n",
    "    BaseTaskContext,\n",
    "    metaclass=ManagerMetaclass\n",
    "):    \n",
    "    def __init_subclass__(cls,):\n",
    "        super().__init_subclass__()"
   ]
  },
  {
   "cell_type": "code",
   "execution_count": 2,
   "id": "edbdfd93",
   "metadata": {},
   "outputs": [
    {
     "name": "stdout",
     "output_type": "stream",
     "text": [
      "(~SchemeTV, ~T)\n"
     ]
    }
   ],
   "source": [
    "T = typing.TypeVar(\"T\")\n",
    "from blue_firmament.manager.common import CommonTaskContext\n",
    "class TCM(\n",
    "    typing.Generic[SchemeTV, T], \n",
    "    BaseManager2[SchemeTV],\n",
    "    CommonTaskContext\n",
    "):\n",
    "    pass\n",
    "print(TCM.__parameters__)"
   ]
  },
  {
   "cell_type": "code",
   "execution_count": 1,
   "id": "504bab8e",
   "metadata": {},
   "outputs": [
    {
     "name": "stderr",
     "output_type": "stream",
     "text": [
      "INFO:blue_firmament.utils.json:{\"event\": \"Json lib's encoder has been overriden\", \"datetime\": \"2025-06-01T07:57:41.002521Z\", \"filename\": \"json.py\", \"lineno\": 32}\n",
      "INFO:BaseSetting:{\"scheme_id\": 4516473664, \"scheme_data\": {\"timezone_delta\": 8, \"session_expire_time\": 300}, \"event\": \"Scheme instantiated\", \"datetime\": \"2025-06-01T07:57:41.007412Z\", \"filename\": \"<string>\", \"lineno\": 15}\n",
      "ERROR:blue_firmament.utils.file:{\"event\": \"Load json file None/auth.base.json failed, IO error\", \"datetime\": \"2025-06-01T07:57:41.067637Z\", \"filename\": \"file.py\", \"lineno\": 33}\n",
      "ERROR:blue_firmament.utils.file:{\"event\": \"Load json file None/auth.production.json failed, IO error\", \"datetime\": \"2025-06-01T07:57:41.068024Z\", \"filename\": \"file.py\", \"lineno\": 33}\n",
      "ERROR:blue_firmament.utils.file:{\"event\": \"Load json file None/auth.local.json failed, IO error\", \"datetime\": \"2025-06-01T07:57:41.068243Z\", \"filename\": \"file.py\", \"lineno\": 33}\n",
      "INFO:AuthSetting:{\"scheme_id\": 4428372576, \"scheme_data\": {\"supabase_anon_key\": \"\", \"jwt_algorithm\": \"\", \"supabase_serv_key\": \"\", \"supabase_auth_url\": \"\", \"jwt_secret_key\": \"\"}, \"event\": \"Scheme instantiated\", \"datetime\": \"2025-06-01T07:57:41.068480Z\", \"filename\": \"<string>\", \"lineno\": 19}\n",
      "INFO:SessionSetting:{\"scheme_id\": 4527481792, \"scheme_data\": {\"jwt_algorithm\": \"HS256\", \"jwt_secret_key\": null}, \"event\": \"Scheme instantiated\", \"datetime\": \"2025-06-01T07:57:41.068876Z\", \"filename\": \"<string>\", \"lineno\": 15}\n"
     ]
    }
   ],
   "source": [
    "from blue_firmament.manager import CommonManager"
   ]
  },
  {
   "cell_type": "code",
   "execution_count": 2,
   "id": "3f0ee40d",
   "metadata": {},
   "outputs": [
    {
     "data": {
      "text/plain": [
       "(~SchemeTV, ~KeyTV)"
      ]
     },
     "execution_count": 2,
     "metadata": {},
     "output_type": "execute_result"
    }
   ],
   "source": [
    "CommonManager.__parameters__"
   ]
  },
  {
   "cell_type": "code",
   "execution_count": 7,
   "id": "6de5bbf0",
   "metadata": {},
   "outputs": [
    {
     "ename": "TypeError",
     "evalue": "Too many arguments for <class 'blue_firmament.manager.common.CommonManager'>; actual 2, expected 1",
     "output_type": "error",
     "traceback": [
      "\u001b[31m---------------------------------------------------------------------------\u001b[39m",
      "\u001b[31mTypeError\u001b[39m                                 Traceback (most recent call last)",
      "\u001b[36mCell\u001b[39m\u001b[36m \u001b[39m\u001b[32mIn[7]\u001b[39m\u001b[32m, line 1\u001b[39m\n\u001b[32m----> \u001b[39m\u001b[32m1\u001b[39m \u001b[38;5;28;01mclass\u001b[39;00m\u001b[38;5;250m \u001b[39m\u001b[34;01mAM\u001b[39;00m(\u001b[43mCommonManager\u001b[49m\u001b[43m[\u001b[49m\u001b[43mA\u001b[49m\u001b[43m,\u001b[49m\u001b[43m \u001b[49m\u001b[38;5;28;43mint\u001b[39;49m\u001b[43m]\u001b[49m):\n\u001b[32m      2\u001b[39m     \u001b[38;5;28;01mpass\u001b[39;00m\n",
      "\u001b[36mFile \u001b[39m\u001b[32m/Library/Frameworks/Python.framework/Versions/3.12/lib/python3.12/typing.py:398\u001b[39m, in \u001b[36m_tp_cache.<locals>.decorator.<locals>.inner\u001b[39m\u001b[34m(*args, **kwds)\u001b[39m\n\u001b[32m    396\u001b[39m \u001b[38;5;28;01mexcept\u001b[39;00m \u001b[38;5;167;01mTypeError\u001b[39;00m:\n\u001b[32m    397\u001b[39m     \u001b[38;5;28;01mpass\u001b[39;00m  \u001b[38;5;66;03m# All real errors (not unhashable args) are raised below.\u001b[39;00m\n\u001b[32m--> \u001b[39m\u001b[32m398\u001b[39m \u001b[38;5;28;01mreturn\u001b[39;00m \u001b[43mfunc\u001b[49m\u001b[43m(\u001b[49m\u001b[43m*\u001b[49m\u001b[43margs\u001b[49m\u001b[43m,\u001b[49m\u001b[43m \u001b[49m\u001b[43m*\u001b[49m\u001b[43m*\u001b[49m\u001b[43mkwds\u001b[49m\u001b[43m)\u001b[49m\n",
      "\u001b[36mFile \u001b[39m\u001b[32m/Library/Frameworks/Python.framework/Versions/3.12/lib/python3.12/typing.py:1110\u001b[39m, in \u001b[36m_generic_class_getitem\u001b[39m\u001b[34m(cls, params)\u001b[39m\n\u001b[32m   1108\u001b[39m     \u001b[38;5;28;01mif\u001b[39;00m prepare \u001b[38;5;129;01mis\u001b[39;00m \u001b[38;5;129;01mnot\u001b[39;00m \u001b[38;5;28;01mNone\u001b[39;00m:\n\u001b[32m   1109\u001b[39m         params = prepare(\u001b[38;5;28mcls\u001b[39m, params)\n\u001b[32m-> \u001b[39m\u001b[32m1110\u001b[39m \u001b[43m_check_generic\u001b[49m\u001b[43m(\u001b[49m\u001b[38;5;28;43mcls\u001b[39;49m\u001b[43m,\u001b[49m\u001b[43m \u001b[49m\u001b[43mparams\u001b[49m\u001b[43m,\u001b[49m\u001b[43m \u001b[49m\u001b[38;5;28;43mlen\u001b[39;49m\u001b[43m(\u001b[49m\u001b[38;5;28;43mcls\u001b[39;49m\u001b[43m.\u001b[49m\u001b[43m__parameters__\u001b[49m\u001b[43m)\u001b[49m\u001b[43m)\u001b[49m\n\u001b[32m   1112\u001b[39m new_args = []\n\u001b[32m   1113\u001b[39m \u001b[38;5;28;01mfor\u001b[39;00m param, new_arg \u001b[38;5;129;01min\u001b[39;00m \u001b[38;5;28mzip\u001b[39m(\u001b[38;5;28mcls\u001b[39m.__parameters__, params):\n",
      "\u001b[36mFile \u001b[39m\u001b[32m~/Development/BlueFirmament/.venv/lib/python3.12/site-packages/typing_extensions.py:3382\u001b[39m, in \u001b[36m_check_generic\u001b[39m\u001b[34m(cls, parameters, elen)\u001b[39m\n\u001b[32m   3378\u001b[39m         elen -= num_default_tv\n\u001b[32m   3380\u001b[39m         expect_val = \u001b[33mf\u001b[39m\u001b[33m\"\u001b[39m\u001b[33mat least \u001b[39m\u001b[38;5;132;01m{\u001b[39;00melen\u001b[38;5;132;01m}\u001b[39;00m\u001b[33m\"\u001b[39m\n\u001b[32m-> \u001b[39m\u001b[32m3382\u001b[39m \u001b[38;5;28;01mraise\u001b[39;00m \u001b[38;5;167;01mTypeError\u001b[39;00m(\u001b[33mf\u001b[39m\u001b[33m\"\u001b[39m\u001b[33mToo \u001b[39m\u001b[38;5;132;01m{\u001b[39;00m\u001b[33m'\u001b[39m\u001b[33mmany\u001b[39m\u001b[33m'\u001b[39m\u001b[38;5;250m \u001b[39m\u001b[38;5;28;01mif\u001b[39;00m\u001b[38;5;250m \u001b[39malen\u001b[38;5;250m \u001b[39m>\u001b[38;5;250m \u001b[39melen\u001b[38;5;250m \u001b[39m\u001b[38;5;28;01melse\u001b[39;00m\u001b[38;5;250m \u001b[39m\u001b[33m'\u001b[39m\u001b[33mfew\u001b[39m\u001b[33m'\u001b[39m\u001b[38;5;132;01m}\u001b[39;00m\u001b[33m arguments\u001b[39m\u001b[33m\"\u001b[39m\n\u001b[32m   3383\u001b[39m                 \u001b[33mf\u001b[39m\u001b[33m\"\u001b[39m\u001b[33m for \u001b[39m\u001b[38;5;132;01m{\u001b[39;00m\u001b[38;5;28mcls\u001b[39m\u001b[38;5;132;01m}\u001b[39;00m\u001b[33m; actual \u001b[39m\u001b[38;5;132;01m{\u001b[39;00malen\u001b[38;5;132;01m}\u001b[39;00m\u001b[33m, expected \u001b[39m\u001b[38;5;132;01m{\u001b[39;00mexpect_val\u001b[38;5;132;01m}\u001b[39;00m\u001b[33m\"\u001b[39m)\n",
      "\u001b[31mTypeError\u001b[39m: Too many arguments for <class 'blue_firmament.manager.common.CommonManager'>; actual 2, expected 1"
     ]
    }
   ],
   "source": [
    "class AM(CommonManager[A, int]):\n",
    "    pass\n",
    "\n"
   ]
  },
  {
   "cell_type": "code",
   "execution_count": 3,
   "id": "d8309453",
   "metadata": {},
   "outputs": [
    {
     "name": "stdout",
     "output_type": "stream",
     "text": [
      "Sub.__parameters__: (~T, ~U)\n"
     ]
    }
   ],
   "source": [
    "import typing\n",
    "import abc\n",
    "\n",
    "T = typing.TypeVar('T')\n",
    "U = typing.TypeVar('U')\n",
    "\n",
    "class TestMeta(abc.ABCMeta):\n",
    "    def __new__(mcls, name, bases, namespace, **kwargs):\n",
    "        # print(f\"TestMeta.__new__ for {name}, bases: {bases}\")\n",
    "        cls = super().__new__(mcls, name, bases, namespace, **kwargs)\n",
    "        # print(f\"Created {name}, __parameters__: {getattr(cls, '__parameters__', 'N/A')}\")\n",
    "        return cls\n",
    "\n",
    "class Base(typing.Generic[T], metaclass=TestMeta):\n",
    "    pass\n",
    "\n",
    "class Sub(typing.Generic[T, U], Base[T]): # Metaclass will be TestMeta\n",
    "    pass\n",
    "\n",
    "# Expected: Sub.__parameters__ == (~T, ~U)\n",
    "print(f\"Sub.__parameters__: {Sub.__parameters__}\")"
   ]
  }
 ],
 "metadata": {
  "kernelspec": {
   "display_name": ".venv",
   "language": "python",
   "name": "python3"
  },
  "language_info": {
   "codemirror_mode": {
    "name": "ipython",
    "version": 3
   },
   "file_extension": ".py",
   "mimetype": "text/x-python",
   "name": "python",
   "nbconvert_exporter": "python",
   "pygments_lexer": "ipython3",
   "version": "3.12.10"
  }
 },
 "nbformat": 4,
 "nbformat_minor": 5
}
