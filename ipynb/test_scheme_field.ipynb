{
 "cells": [
  {
   "cell_type": "code",
   "execution_count": null,
   "id": "526ed8f7",
   "metadata": {},
   "outputs": [],
   "source": [
    "from blue_firmament.scheme import Field\n",
    "\n",
    "field_a = Field('a', vtype=str, name='field_a')\n",
    "\n",
    "d = {\n",
    "    'field_a': 'value_a'\n",
    "}\n",
    "d[field_a]"
   ]
  },
  {
   "cell_type": "code",
   "execution_count": null,
   "id": "229193bf",
   "metadata": {},
   "outputs": [
    {
     "data": {
      "text/plain": [
       "64"
      ]
     },
     "execution_count": 7,
     "metadata": {},
     "output_type": "execute_result"
    }
   ],
   "source": [
    "# test proxy transparency\n",
    "from blue_firmament.scheme import BaseScheme, Field, FieldT\n",
    "\n",
    "class MyScheme(BaseScheme):\n",
    "    field_a: FieldT[str] = Field('field_a_value')\n",
    "    field_c: FieldT[int] = Field(-64)\n",
    "    field_b = Field([], vtype=list)\n",
    "\n",
    "my_scheme = MyScheme()\n",
    "\n",
    "abs(my_scheme.field_c)"
   ]
  },
  {
   "cell_type": "code",
   "execution_count": 7,
   "id": "ab02e085",
   "metadata": {},
   "outputs": [
    {
     "data": {
      "text/plain": [
       "True"
      ]
     },
     "execution_count": 7,
     "metadata": {},
     "output_type": "execute_result"
    }
   ],
   "source": [
    "import typing\n",
    "from blue_firmament.scheme.field import BlueFirmamentField\n",
    "\n",
    "a = BlueFirmamentField[str | None]\n",
    "typing.get_origin(a) is BlueFirmamentField"
   ]
  },
  {
   "cell_type": "code",
   "execution_count": null,
   "id": "29c17891",
   "metadata": {},
   "outputs": [],
   "source": [
    "from blue_firmament.scheme.field import UndefinedValue\n",
    "T = typing.TypeVar('T')\n",
    "\n",
    "def func(v: T, \n",
    "    tp: typing.Union[T, None] | UndefinedValue = UndefinedValue()\n",
    ") -> T:\n",
    "    return tp\n",
    "\n",
    "a = func(None, str | None)"
   ]
  },
  {
   "cell_type": "code",
   "execution_count": null,
   "id": "41d68358",
   "metadata": {},
   "outputs": [],
   "source": [
    "import typing\n",
    "from blue_firmament.scheme.field import Field\n",
    "\n",
    "class A:\n",
    "    field_a: typing.Annotated[str | None, Field('field_a')]\n",
    "\n"
   ]
  }
 ],
 "metadata": {
  "kernelspec": {
   "display_name": ".venv",
   "language": "python",
   "name": "python3"
  },
  "language_info": {
   "codemirror_mode": {
    "name": "ipython",
    "version": 3
   },
   "file_extension": ".py",
   "mimetype": "text/x-python",
   "name": "python",
   "nbconvert_exporter": "python",
   "pygments_lexer": "ipython3",
   "version": "3.12.10"
  }
 },
 "nbformat": 4,
 "nbformat_minor": 5
}
