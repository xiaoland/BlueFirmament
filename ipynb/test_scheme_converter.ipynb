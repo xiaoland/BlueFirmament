{
 "cells": [
  {
   "cell_type": "code",
   "execution_count": 1,
   "id": "d52f47e0",
   "metadata": {},
   "outputs": [],
   "source": [
    "import typing"
   ]
  },
  {
   "cell_type": "code",
   "execution_count": 8,
   "id": "0492f1dc",
   "metadata": {},
   "outputs": [
    {
     "name": "stdout",
     "output_type": "stream",
     "text": [
      "{'_inst': True, '_name': 'Optional', '__origin__': typing.Union, '__slots__': None, '__args__': (<class 'str'>, <class 'NoneType'>), '__parameters__': ()}\n",
      "True\n",
      "(<class 'str'>, <class 'NoneType'>)\n"
     ]
    }
   ],
   "source": [
    "OptT = typing.Optional[str]\n",
    "\n",
    "print(OptT.__dict__)\n",
    "print(typing.get_origin(OptT) is typing.Union)\n",
    "print(typing.get_args(OptT))"
   ]
  },
  {
   "cell_type": "code",
   "execution_count": null,
   "id": "c7211bbe",
   "metadata": {},
   "outputs": [
    {
     "name": "stdout",
     "output_type": "stream",
     "text": [
      "False\n"
     ]
    }
   ],
   "source": [
    "NewT = typing.NewType('NewT', str)\n",
    "\n",
    "typing.get_origin(NewT)"
   ]
  },
  {
   "cell_type": "code",
   "execution_count": null,
   "id": "d6e975e3",
   "metadata": {},
   "outputs": [],
   "source": []
  }
 ],
 "metadata": {
  "kernelspec": {
   "display_name": ".venv",
   "language": "python",
   "name": "python3"
  },
  "language_info": {
   "codemirror_mode": {
    "name": "ipython",
    "version": 3
   },
   "file_extension": ".py",
   "mimetype": "text/x-python",
   "name": "python",
   "nbconvert_exporter": "python",
   "pygments_lexer": "ipython3",
   "version": "3.12.10"
  }
 },
 "nbformat": 4,
 "nbformat_minor": 5
}
