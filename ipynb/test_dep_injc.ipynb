{
 "cells": [
  {
   "cell_type": "code",
   "execution_count": 1,
   "id": "21c466f4",
   "metadata": {},
   "outputs": [],
   "source": [
    "from blue_firmament.dep_injc import DependencyInjector"
   ]
  },
  {
   "cell_type": "code",
   "execution_count": 2,
   "id": "0506cbc6",
   "metadata": {},
   "outputs": [],
   "source": [
    "def f(a, b = 2, c: str = '1'):\n",
    "    print(a, b, c)\n",
    "\n",
    "def f2(a, b = 2, c: int = 1):\n",
    "    print(a, b, c)\n",
    "\n",
    "def f3(a, /, b = 2):\n",
    "    print(a, b)"
   ]
  },
  {
   "cell_type": "code",
   "execution_count": 3,
   "id": "b59fbd5a",
   "metadata": {},
   "outputs": [],
   "source": [
    "d1 = DependencyInjector(\n",
    "    f,\n",
    "    getters_by_name={\n",
    "        'a': lambda args, kwargs: kwargs['f_a']\n",
    "    }\n",
    ")\n",
    "d2 = DependencyInjector(\n",
    "    f2,\n",
    "    dgetters_by_name={\n",
    "        'c': lambda anno: (lambda args, kwargs: 2) if anno is int else lambda args, kwargs: '2',\n",
    "    }\n",
    ")\n",
    "d3 = DependencyInjector(\n",
    "    f3\n",
    ")"
   ]
  },
  {
   "cell_type": "code",
   "execution_count": 8,
   "id": "d799f843",
   "metadata": {},
   "outputs": [
    {
     "name": "stdout",
     "output_type": "stream",
     "text": [
      "1 2 1\n"
     ]
    }
   ],
   "source": [
    "d1(f_a=1)\n",
    "# d1(a=1)"
   ]
  },
  {
   "cell_type": "code",
   "execution_count": 7,
   "id": "3eb07046",
   "metadata": {},
   "outputs": [
    {
     "name": "stdout",
     "output_type": "stream",
     "text": [
      "1 2 2\n"
     ]
    }
   ],
   "source": [
    "d2(a=1)"
   ]
  },
  {
   "cell_type": "code",
   "execution_count": 5,
   "id": "413c1514",
   "metadata": {},
   "outputs": [
    {
     "name": "stdout",
     "output_type": "stream",
     "text": [
      "1 2\n"
     ]
    }
   ],
   "source": [
    "d3(1)"
   ]
  },
  {
   "cell_type": "code",
   "execution_count": null,
   "id": "0c255b0b",
   "metadata": {},
   "outputs": [],
   "source": []
  }
 ],
 "metadata": {
  "kernelspec": {
   "display_name": ".venv",
   "language": "python",
   "name": "python3"
  },
  "language_info": {
   "codemirror_mode": {
    "name": "ipython",
    "version": 3
   },
   "file_extension": ".py",
   "mimetype": "text/x-python",
   "name": "python",
   "nbconvert_exporter": "python",
   "pygments_lexer": "ipython3",
   "version": "3.12.10"
  }
 },
 "nbformat": 4,
 "nbformat_minor": 5
}
