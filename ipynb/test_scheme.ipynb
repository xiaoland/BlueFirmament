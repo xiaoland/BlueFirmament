{
 "cells": [
  {
   "cell_type": "code",
   "execution_count": 1,
   "id": "a5becb8d",
   "metadata": {},
   "outputs": [],
   "source": [
    "from blue_firmament.scheme import (\n",
    "    BaseScheme, field, CompositeKeyField, FieldT,\n",
    ")\n",
    "import typing"
   ]
  },
  {
   "cell_type": "code",
   "execution_count": null,
   "id": "8965b08a",
   "metadata": {},
   "outputs": [
    {
     "name": "stdout",
     "output_type": "stream",
     "text": [
      "{'field_a'}\n",
      "{'field_b'}\n"
     ]
    }
   ],
   "source": [
    "\n",
    "class MyScheme(BaseScheme):\n",
    "    field_a = field('default')\n",
    "    field_b = field(vtype=int)\n",
    "    field_c = field(default_factory=list, vtype=list)\n",
    "\n",
    "MyScheme.field_a.name\n",
    "MyScheme.field_b.name\n",
    "\n",
    "my_scheme = MyScheme(field_b=42)\n",
    "my_scheme.field_a += '1'\n",
    "print(my_scheme.__dirty_fields__)\n",
    "\n",
    "my_scheme2 = MyScheme(field_a='2', field_b=43)\n",
    "my_scheme2.field_b += 4\n",
    "print(my_scheme2.__dirty_fields__)\n"
   ]
  },
  {
   "cell_type": "code",
   "execution_count": null,
   "id": "e052044b",
   "metadata": {},
   "outputs": [],
   "source": [
    "# detect mutable value changes\n",
    "my_scheme.field_c.append(1)\n",
    "my_scheme.__dirty_fields__"
   ]
  },
  {
   "cell_type": "code",
   "execution_count": null,
   "id": "b1a62806",
   "metadata": {},
   "outputs": [],
   "source": [
    "type(my_scheme['field_c'])"
   ]
  },
  {
   "cell_type": "code",
   "execution_count": null,
   "id": "9c5ad736",
   "metadata": {},
   "outputs": [],
   "source": [
    "MyScheme.field_b.__class__"
   ]
  },
  {
   "cell_type": "code",
   "execution_count": null,
   "id": "0ca2837b",
   "metadata": {},
   "outputs": [],
   "source": [
    "# field scheme \n",
    "MyScheme.field_b.scheme_cls"
   ]
  },
  {
   "cell_type": "code",
   "execution_count": null,
   "id": "a37eded5",
   "metadata": {},
   "outputs": [],
   "source": [
    "# descriptor\n",
    "my_scheme.field_b + 1"
   ]
  },
  {
   "cell_type": "code",
   "execution_count": 3,
   "id": "6450c86e",
   "metadata": {},
   "outputs": [
    {
     "data": {
      "text/plain": [
       "{'field_a': 'default', 'field_b': 42, 'field_c': []}"
      ]
     },
     "execution_count": 3,
     "metadata": {},
     "output_type": "execute_result"
    }
   ],
   "source": [
    "my_scheme.dump_to_dict()"
   ]
  },
  {
   "cell_type": "code",
   "execution_count": 2,
   "id": "a3ab7468",
   "metadata": {},
   "outputs": [
    {
     "data": {
      "text/plain": [
       "'default1'"
      ]
     },
     "execution_count": 2,
     "metadata": {},
     "output_type": "execute_result"
    }
   ],
   "source": [
    "getattr(my_scheme, 'field_a')"
   ]
  },
  {
   "cell_type": "code",
   "execution_count": 2,
   "id": "43629980",
   "metadata": {},
   "outputs": [],
   "source": [
    "# Composite key definition\n",
    "class AK(BaseScheme):\n",
    "    keya: FieldT[int]\n",
    "    keyb: FieldT[str]\n",
    "class A(BaseScheme):\n",
    "    cid: CompositeKeyField[AK]\n",
    "    name: str"
   ]
  },
  {
   "cell_type": "code",
   "execution_count": 4,
   "id": "a6815eb7",
   "metadata": {},
   "outputs": [
    {
     "name": "stderr",
     "output_type": "stream",
     "text": [
      "INFO:AK:{\"scheme_id\": 4639876080, \"scheme_data\": {\"keyb\": \"2\", \"keya\": 1}, \"event\": \"Scheme instantiated\", \"datetime\": \"2025-05-20T15:59:53.535699Z\", \"filename\": \"<string>\", \"lineno\": 11}\n",
      "INFO:A:{\"scheme_id\": 4639873968, \"scheme_data\": {\"keyb\": \"2\", \"keya\": 1, \"name\": \"aname\"}, \"event\": \"Scheme instantiated\", \"datetime\": \"2025-05-20T15:59:53.536775Z\", \"filename\": \"<string>\", \"lineno\": 11}\n",
      "INFO:AK:{\"scheme_id\": 4638920144, \"scheme_data\": {\"keyb\": \"3\", \"keya\": 1}, \"event\": \"Scheme instantiated\", \"datetime\": \"2025-05-20T15:59:53.537502Z\", \"filename\": \"<string>\", \"lineno\": 11}\n",
      "INFO:A:{\"scheme_id\": 4639116224, \"scheme_data\": {\"keyb\": \"3\", \"keya\": 1, \"name\": \"name\"}, \"event\": \"Scheme instantiated\", \"datetime\": \"2025-05-20T15:59:53.538288Z\", \"filename\": \"<string>\", \"lineno\": 11}\n",
      "INFO:AK:{\"scheme_id\": 4641767552, \"scheme_data\": {\"keyb\": \"1\", \"keya\": 1}, \"event\": \"Scheme instantiated\", \"datetime\": \"2025-05-20T15:59:53.538895Z\", \"filename\": \"<string>\", \"lineno\": 11}\n",
      "INFO:AK:{\"scheme_id\": 4639123424, \"scheme_data\": {\"keyb\": \"1\", \"keya\": 1}, \"event\": \"Scheme instantiated\", \"datetime\": \"2025-05-20T15:59:53.539703Z\", \"filename\": \"<string>\", \"lineno\": 11}\n"
     ]
    },
    {
     "name": "stdout",
     "output_type": "stream",
     "text": [
      "EqFilter:value=<__main__.AK object at 0x114abc080>,field=<blue_firmament.scheme.field.CompositeKeyField object at 0x1148edc40>,\n",
      "[EqFilter:value=1,field=<blue_firmament.scheme.field.Field object at 0x1148edee0>,, EqFilter:value=1,field=<blue_firmament.scheme.field.Field object at 0x1148edf40>,]\n",
      "keya\n"
     ]
    }
   ],
   "source": [
    "# Composite key test\n",
    "a = A(cid=AK(keya=1, keyb='2'), name='aname')\n",
    "a2 = A(keya=1, keyb=3, name=\"name\")\n",
    "print(A.cid.equals(AK(keya=1, keyb='1')))\n",
    "from blue_firmament.dal.utils import dump_filters_like\n",
    "print(dump_filters_like(AK(keya=1, keyb='1')))\n",
    "print(A.cid._sub.keya.name)"
   ]
  },
  {
   "cell_type": "code",
   "execution_count": null,
   "id": "c9f0b1d7",
   "metadata": {},
   "outputs": [],
   "source": []
  }
 ],
 "metadata": {
  "kernelspec": {
   "display_name": ".venv",
   "language": "python",
   "name": "python3"
  },
  "language_info": {
   "codemirror_mode": {
    "name": "ipython",
    "version": 3
   },
   "file_extension": ".py",
   "mimetype": "text/x-python",
   "name": "python",
   "nbconvert_exporter": "python",
   "pygments_lexer": "ipython3",
   "version": "3.12.10"
  }
 },
 "nbformat": 4,
 "nbformat_minor": 5
}
