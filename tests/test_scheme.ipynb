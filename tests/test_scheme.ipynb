{
 "cells": [
  {
   "cell_type": "code",
   "execution_count": 1,
   "id": "8965b08a",
   "metadata": {},
   "outputs": [
    {
     "name": "stdout",
     "output_type": "stream",
     "text": [
      "{'field_a'}\n",
      "{'field_b'}\n"
     ]
    }
   ],
   "source": [
    "from blue_firmament.scheme import BaseScheme, Field\n",
    "\n",
    "class MyScheme(BaseScheme):\n",
    "    field_a = Field('default')\n",
    "    field_b = Field(vtype=int)\n",
    "    field_c = Field(default_factory=list, vtype=list)\n",
    "\n",
    "MyScheme.field_a.name\n",
    "MyScheme.field_b.name\n",
    "\n",
    "my_scheme = MyScheme(field_b=42)\n",
    "my_scheme.field_a += '1'\n",
    "print(my_scheme.__dirty_fields__)\n",
    "\n",
    "my_scheme2 = MyScheme(field_a='2', field_b=43)\n",
    "my_scheme2.field_b += 4\n",
    "print(my_scheme2.__dirty_fields__)\n"
   ]
  },
  {
   "cell_type": "code",
   "execution_count": null,
   "id": "e052044b",
   "metadata": {},
   "outputs": [],
   "source": [
    "# detect mutable value changes\n",
    "my_scheme.field_c.append(1)\n",
    "my_scheme.__dirty_fields__"
   ]
  },
  {
   "cell_type": "code",
   "execution_count": null,
   "id": "b1a62806",
   "metadata": {},
   "outputs": [],
   "source": [
    "type(my_scheme['field_c'])"
   ]
  },
  {
   "cell_type": "code",
   "execution_count": null,
   "id": "9c5ad736",
   "metadata": {},
   "outputs": [],
   "source": [
    "MyScheme.field_b.__class__"
   ]
  },
  {
   "cell_type": "code",
   "execution_count": null,
   "id": "0ca2837b",
   "metadata": {},
   "outputs": [],
   "source": [
    "# field scheme \n",
    "MyScheme.field_b.scheme_cls"
   ]
  },
  {
   "cell_type": "code",
   "execution_count": null,
   "id": "a37eded5",
   "metadata": {},
   "outputs": [],
   "source": [
    "# descriptor\n",
    "my_scheme.field_b + 1"
   ]
  },
  {
   "cell_type": "code",
   "execution_count": 3,
   "id": "6450c86e",
   "metadata": {},
   "outputs": [
    {
     "data": {
      "text/plain": [
       "{'field_a': 'default', 'field_b': 42, 'field_c': []}"
      ]
     },
     "execution_count": 3,
     "metadata": {},
     "output_type": "execute_result"
    }
   ],
   "source": [
    "my_scheme.dump_to_dict()"
   ]
  },
  {
   "cell_type": "code",
   "execution_count": 2,
   "id": "a3ab7468",
   "metadata": {},
   "outputs": [
    {
     "data": {
      "text/plain": [
       "'default1'"
      ]
     },
     "execution_count": 2,
     "metadata": {},
     "output_type": "execute_result"
    }
   ],
   "source": [
    "getattr(my_scheme, 'field_a')"
   ]
  },
  {
   "cell_type": "code",
   "execution_count": null,
   "id": "43629980",
   "metadata": {},
   "outputs": [],
   "source": []
  }
 ],
 "metadata": {
  "kernelspec": {
   "display_name": ".venv",
   "language": "python",
   "name": "python3"
  },
  "language_info": {
   "codemirror_mode": {
    "name": "ipython",
    "version": 3
   },
   "file_extension": ".py",
   "mimetype": "text/x-python",
   "name": "python",
   "nbconvert_exporter": "python",
   "pygments_lexer": "ipython3",
   "version": "3.12.10"
  }
 },
 "nbformat": 4,
 "nbformat_minor": 5
}
