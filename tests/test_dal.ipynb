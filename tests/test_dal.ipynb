{
 "cells": [
  {
   "cell_type": "code",
   "execution_count": null,
   "id": "4c2ea7b1",
   "metadata": {},
   "outputs": [],
   "source": [
    "# init\n",
    "\n",
    "from blue_firmament.dal.postgrest_dal import PostgrestDataAccessObject"
   ]
  },
  {
   "cell_type": "code",
   "execution_count": null,
   "id": "6e674424",
   "metadata": {},
   "outputs": [],
   "source": [
    "# select"
   ]
  },
  {
   "cell_type": "code",
   "execution_count": null,
   "id": "a2b625da",
   "metadata": {},
   "outputs": [],
   "source": [
    "# update"
   ]
  },
  {
   "cell_type": "code",
   "execution_count": null,
   "id": "77d5e299",
   "metadata": {},
   "outputs": [],
   "source": [
    "# insert"
   ]
  },
  {
   "cell_type": "code",
   "execution_count": null,
   "id": "607be858",
   "metadata": {},
   "outputs": [],
   "source": [
    "# delete"
   ]
  }
 ],
 "metadata": {
  "kernelspec": {
   "display_name": ".venv",
   "language": "python",
   "name": "python3"
  },
  "language_info": {
   "name": "python",
   "version": "3.12.10"
  }
 },
 "nbformat": 4,
 "nbformat_minor": 5
}
