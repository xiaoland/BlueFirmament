{
 "cells": [
  {
   "cell_type": "code",
   "execution_count": 1,
   "id": "b3f943a4",
   "metadata": {},
   "outputs": [],
   "source": [
    "from blue_firmament.main import BlueFirmamentApp\n",
    "app = BlueFirmamentApp()"
   ]
  },
  {
   "cell_type": "code",
   "execution_count": 2,
   "id": "5b7f569a",
   "metadata": {},
   "outputs": [],
   "source": [
    "from blue_firmament.manager import BaseManager, common_manager"
   ]
  },
  {
   "cell_type": "code",
   "execution_count": 3,
   "id": "285b1102",
   "metadata": {},
   "outputs": [],
   "source": [
    "from blue_firmament.scheme import BaseScheme, Field\n",
    "\n",
    "class MyScheme(BaseScheme):\n",
    "    field_a = Field('', vtype=str)\n",
    "    _id = Field(is_primary_key=True, vtype=str)\n",
    "    field_b = Field(0, vtype=int)"
   ]
  },
  {
   "cell_type": "code",
   "execution_count": null,
   "id": "b56470c9",
   "metadata": {},
   "outputs": [],
   "source": [
    "from blue_firmament.session.common import CommonSession\n",
    "\n",
    "@common_manager(\n",
    "    'my',\n",
    "    put_a_field=True,\n",
    "    put_a_field_options={\n",
    "        'fields': (MyScheme.field_a, MyScheme.field_b)\n",
    "    },\n",
    "    app=app\n",
    ")\n",
    "class MyManager(BaseManager[MyScheme, CommonSession]):\n",
    "    __SCHEME_CLS__ = MyScheme\n",
    "    __path_prefix__ = 'my'\n",
    "\n"
   ]
  },
  {
   "cell_type": "code",
   "execution_count": 5,
   "id": "53288425",
   "metadata": {},
   "outputs": [
    {
     "data": {
      "text/plain": [
       "<function blue_firmament.manager.put_field_a(self, body: dict, my_id: str)>"
      ]
     },
     "execution_count": 5,
     "metadata": {},
     "output_type": "execute_result"
    }
   ],
   "source": [
    "MyManager.put_field_a"
   ]
  },
  {
   "cell_type": "code",
   "execution_count": 6,
   "id": "f997ae8e",
   "metadata": {},
   "outputs": [
    {
     "data": {
      "text/plain": [
       "'/my/{my_id}/field_a/'"
      ]
     },
     "execution_count": 6,
     "metadata": {},
     "output_type": "execute_result"
    }
   ],
   "source": [
    "app.router._Router__records[0].route_key.path"
   ]
  },
  {
   "cell_type": "code",
   "execution_count": 7,
   "id": "66ff5027",
   "metadata": {},
   "outputs": [
    {
     "data": {
      "text/plain": [
       "(<blue_firmament.routing.RouteRecord at 0x1070fa780>, {'my_id': 'abcdid'})"
      ]
     },
     "execution_count": 7,
     "metadata": {},
     "output_type": "execute_result"
    }
   ],
   "source": [
    "from blue_firmament.routing import RouteKey\n",
    "from blue_firmament.transport import TransportOperationType\n",
    "\n",
    "\n",
    "app.router.routing(RouteKey(\n",
    "    TransportOperationType.PUT,\n",
    "    '/my/abcdid/field_a'\n",
    "))"
   ]
  },
  {
   "cell_type": "code",
   "execution_count": null,
   "id": "97ad6a55",
   "metadata": {},
   "outputs": [],
   "source": []
  }
 ],
 "metadata": {
  "kernelspec": {
   "display_name": ".venv",
   "language": "python",
   "name": "python3"
  },
  "language_info": {
   "codemirror_mode": {
    "name": "ipython",
    "version": 3
   },
   "file_extension": ".py",
   "mimetype": "text/x-python",
   "name": "python",
   "nbconvert_exporter": "python",
   "pygments_lexer": "ipython3",
   "version": "3.12.10"
  }
 },
 "nbformat": 4,
 "nbformat_minor": 5
}
